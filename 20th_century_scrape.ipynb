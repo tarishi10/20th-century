{
 "cells": [
  {
   "cell_type": "markdown",
   "id": "46ec4e12-007d-40ad-b6d3-833735326958",
   "metadata": {},
   "source": [
    "# Script contents\n",
    "1. Import libraries\n",
    "2. Chrome drive setup\n",
    "3. Scraping webpage\n",
    "4. Save the text file"
   ]
  },
  {
   "cell_type": "markdown",
   "id": "ed9b4f85-4017-44bc-9dbc-f131379b576a",
   "metadata": {},
   "source": [
    "### 1. Importing libraries"
   ]
  },
  {
   "cell_type": "code",
   "execution_count": 1,
   "id": "6933475d-89a5-45be-b5df-45a359365378",
   "metadata": {},
   "outputs": [],
   "source": [
    "import pandas as pd\n",
    "import time\n",
    "from selenium import webdriver\n",
    "from webdriver_manager.chrome import ChromeDriverManager\n",
    "from selenium.webdriver.common.by import By\n",
    "from selenium.webdriver.chrome.service import Service\n",
    "from selenium.webdriver.chrome.options import Options\n",
    "import matplotlib.pyplot as plt\n",
    "import os\n",
    "import logging\n",
    "import requests\n",
    "import bs4"
   ]
  },
  {
   "cell_type": "markdown",
   "id": "3cfdecf9-b4c4-4138-9237-329482e82f1d",
   "metadata": {},
   "source": [
    "### 2. Chrome driver setup"
   ]
  },
  {
   "cell_type": "code",
   "execution_count": 2,
   "id": "40d03c37-7e9e-4506-bc03-f0b09b14cc91",
   "metadata": {},
   "outputs": [],
   "source": [
    "## Setup chrome options\n",
    "\n",
    "chrome_options = Options()\n",
    "chrome_options.add_argument(\"--headless\") # Ensure GUI is off,headless mode\n",
    "chrome_options.add_argument(\"--no-sandbox\")"
   ]
  },
  {
   "cell_type": "code",
   "execution_count": 3,
   "id": "4b4f29a4-4817-4d93-8fe2-43555b0e6b96",
   "metadata": {},
   "outputs": [
    {
     "name": "stderr",
     "output_type": "stream",
     "text": [
      "<>:3: SyntaxWarning: invalid escape sequence '\\P'\n",
      "<>:3: SyntaxWarning: invalid escape sequence '\\P'\n",
      "C:\\Users\\akul_\\AppData\\Local\\Temp\\ipykernel_1072\\3180105678.py:3: SyntaxWarning: invalid escape sequence '\\P'\n",
      "  service = Service('C:\\Program Files\\Google\\chromedriver.exe')\n"
     ]
    }
   ],
   "source": [
    "# Install Chrome driver manager\n",
    "\n",
    "service = Service('C:\\Program Files\\Google\\chromedriver.exe')\n",
    "\n",
    "driver = webdriver.Chrome(service=service, options=chrome_options)\n"
   ]
  },
  {
   "cell_type": "code",
   "execution_count": 4,
   "id": "fd82cbfe-128a-4ae9-a599-0f49f60dbd7e",
   "metadata": {},
   "outputs": [],
   "source": [
    "# Setting the page URL\n",
    "page_url='https://en.wikipedia.org/wiki/Key_events_of_the_20th_century'"
   ]
  },
  {
   "cell_type": "code",
   "execution_count": 5,
   "id": "d0719a67-1601-47d6-a4f2-5c98e662fae0",
   "metadata": {},
   "outputs": [],
   "source": [
    "driver.get(page_url)"
   ]
  },
  {
   "cell_type": "markdown",
   "id": "78ed9d80-40ce-49db-916e-b1f78dd46cd4",
   "metadata": {},
   "source": [
    "### 3. Scraping using requests and beautifulsoup"
   ]
  },
  {
   "cell_type": "code",
   "execution_count": 6,
   "id": "7b2dcf3e-d095-45c9-b2c8-a093cb3ea0c6",
   "metadata": {},
   "outputs": [],
   "source": [
    "import requests\n",
    "from bs4 import BeautifulSoup"
   ]
  },
  {
   "cell_type": "code",
   "execution_count": 7,
   "id": "61310080-47e8-4a8d-bdf9-2ae6c6cd478d",
   "metadata": {},
   "outputs": [],
   "source": [
    "page_url=requests.get('https://en.wikipedia.org/wiki/Key_events_of_the_20th_century')"
   ]
  },
  {
   "cell_type": "code",
   "execution_count": 9,
   "id": "1c6fe1cb-5c59-40fa-a8ca-5c5c50e93d13",
   "metadata": {},
   "outputs": [
    {
     "name": "stdout",
     "output_type": "stream",
     "text": [
      "<title>Key events of the 20th century - Wikipedia</title>\n"
     ]
    }
   ],
   "source": [
    "# Create an object with the webpage text and get title\n",
    "webpage = BeautifulSoup(page_url.text, 'html.parser')\n",
    "print(webpage.title)"
   ]
  },
  {
   "cell_type": "code",
   "execution_count": null,
   "id": "6c314227-c1c6-40f5-b607-0cd6885d29c7",
   "metadata": {},
   "outputs": [],
   "source": [
    "print(webpage.text)"
   ]
  },
  {
   "cell_type": "markdown",
   "id": "ed5481c2-da95-417d-9a38-0e01befd047d",
   "metadata": {},
   "source": [
    "### 4. saving text file"
   ]
  },
  {
   "cell_type": "code",
   "execution_count": 17,
   "id": "c5a448da-9d14-4371-a443-613fb9be14ca",
   "metadata": {},
   "outputs": [],
   "source": [
    "## Creating an object to save all the text \n",
    "text=webpage.get_text()"
   ]
  },
  {
   "cell_type": "code",
   "execution_count": 18,
   "id": "f5034384-80ea-411d-a9e8-b974c5fb41c2",
   "metadata": {},
   "outputs": [],
   "source": [
    "text = text.encode('utf-8') "
   ]
  },
  {
   "cell_type": "code",
   "execution_count": 19,
   "id": "e60eab50-0bec-4310-aa6e-2a919b976b2c",
   "metadata": {},
   "outputs": [],
   "source": [
    "with open('key_events_Wiki.txt', 'wb') as f: \n",
    "    f.write(text)"
   ]
  },
  {
   "cell_type": "code",
   "execution_count": null,
   "id": "df688b84-ebed-4b39-882d-003399294fc4",
   "metadata": {},
   "outputs": [],
   "source": []
  }
 ],
 "metadata": {
  "kernelspec": {
   "display_name": "Python [conda env:20th_century] *",
   "language": "python",
   "name": "conda-env-20th_century-py"
  },
  "language_info": {
   "codemirror_mode": {
    "name": "ipython",
    "version": 3
   },
   "file_extension": ".py",
   "mimetype": "text/x-python",
   "name": "python",
   "nbconvert_exporter": "python",
   "pygments_lexer": "ipython3",
   "version": "3.13.5"
  }
 },
 "nbformat": 4,
 "nbformat_minor": 5
}
