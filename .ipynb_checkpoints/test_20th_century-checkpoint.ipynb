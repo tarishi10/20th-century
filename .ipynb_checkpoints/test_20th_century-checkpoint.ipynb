{
 "cells": [
  {
   "cell_type": "markdown",
   "id": "f0f66eba-c6a1-494e-8dfd-f8ef202faf1e",
   "metadata": {},
   "source": [
    "# Script contents:\n",
    "1. Importing libraries\n",
    "2. Creating a dataframe\n",
    "3. Performing functions\n",
    "4. Creating a flag column "
   ]
  },
  {
   "cell_type": "markdown",
   "id": "be4cc7b1-e2bd-42e1-a7eb-f2773596e06c",
   "metadata": {},
   "source": [
    "### 1. Importing libraries"
   ]
  },
  {
   "cell_type": "code",
   "execution_count": 2,
   "id": "2c615dfd-b018-423c-8d78-ca346ccf6338",
   "metadata": {},
   "outputs": [],
   "source": [
    "import pandas as pd\n",
    "import numpy as np"
   ]
  },
  {
   "cell_type": "markdown",
   "id": "8e192dd4-a6b0-4272-81c6-95db2048f9d8",
   "metadata": {},
   "source": [
    "### 2. Creating a new dataframe"
   ]
  },
  {
   "cell_type": "code",
   "execution_count": 4,
   "id": "ef1baf23-f28a-47e1-b45f-9f8d70a7c7ee",
   "metadata": {},
   "outputs": [],
   "source": [
    "Data= pd.DataFrame({\"Product\" :['TV', 'Sweatshirt', 'Cereal', 'Milk'],\n",
    "                    \"Price\": [250,50,7,5],\n",
    "                    \"Category\": ['Electronics', 'Clothing', 'Grocery','Grocery']})"
   ]
  },
  {
   "cell_type": "code",
   "execution_count": 5,
   "id": "1167047b-7f3b-40ef-a49e-6dcdec6321c5",
   "metadata": {},
   "outputs": [
    {
     "data": {
      "text/html": [
       "<div>\n",
       "<style scoped>\n",
       "    .dataframe tbody tr th:only-of-type {\n",
       "        vertical-align: middle;\n",
       "    }\n",
       "\n",
       "    .dataframe tbody tr th {\n",
       "        vertical-align: top;\n",
       "    }\n",
       "\n",
       "    .dataframe thead th {\n",
       "        text-align: right;\n",
       "    }\n",
       "</style>\n",
       "<table border=\"1\" class=\"dataframe\">\n",
       "  <thead>\n",
       "    <tr style=\"text-align: right;\">\n",
       "      <th></th>\n",
       "      <th>Product</th>\n",
       "      <th>Price</th>\n",
       "      <th>Category</th>\n",
       "    </tr>\n",
       "  </thead>\n",
       "  <tbody>\n",
       "    <tr>\n",
       "      <th>0</th>\n",
       "      <td>TV</td>\n",
       "      <td>250</td>\n",
       "      <td>Electronics</td>\n",
       "    </tr>\n",
       "    <tr>\n",
       "      <th>1</th>\n",
       "      <td>Sweatshirt</td>\n",
       "      <td>50</td>\n",
       "      <td>Clothing</td>\n",
       "    </tr>\n",
       "    <tr>\n",
       "      <th>2</th>\n",
       "      <td>Cereal</td>\n",
       "      <td>7</td>\n",
       "      <td>Grocery</td>\n",
       "    </tr>\n",
       "    <tr>\n",
       "      <th>3</th>\n",
       "      <td>Milk</td>\n",
       "      <td>5</td>\n",
       "      <td>Grocery</td>\n",
       "    </tr>\n",
       "  </tbody>\n",
       "</table>\n",
       "</div>"
      ],
      "text/plain": [
       "      Product  Price     Category\n",
       "0          TV    250  Electronics\n",
       "1  Sweatshirt     50     Clothing\n",
       "2      Cereal      7      Grocery\n",
       "3        Milk      5      Grocery"
      ]
     },
     "execution_count": 5,
     "metadata": {},
     "output_type": "execute_result"
    }
   ],
   "source": [
    "Data.head()\n"
   ]
  },
  {
   "cell_type": "markdown",
   "id": "fd35a07a-24b8-4b66-a035-73e5e08e9a05",
   "metadata": {},
   "source": [
    "### 3. Perfroming mathematical functions"
   ]
  },
  {
   "cell_type": "code",
   "execution_count": 6,
   "id": "6a34fa04-2694-4177-9cd0-791fda0cb6da",
   "metadata": {},
   "outputs": [],
   "source": [
    "## I want to add 10% tax to all the products and create a new column called \"price_with_tax\""
   ]
  },
  {
   "cell_type": "code",
   "execution_count": 8,
   "id": "a7e84a39-07e1-4b44-9238-e589cb3bac88",
   "metadata": {},
   "outputs": [],
   "source": [
    "Data['price_with_tax']=Data['Price'].apply(lambda x: x+ x*0.10)"
   ]
  },
  {
   "cell_type": "code",
   "execution_count": 9,
   "id": "698d820a-a02f-43e1-95af-3bea62ddba78",
   "metadata": {},
   "outputs": [
    {
     "name": "stdout",
     "output_type": "stream",
     "text": [
      "      Product  Price     Category  price_with_tax\n",
      "0          TV    250  Electronics           275.0\n",
      "1  Sweatshirt     50     Clothing            55.0\n",
      "2      Cereal      7      Grocery             7.7\n",
      "3        Milk      5      Grocery             5.5\n"
     ]
    }
   ],
   "source": [
    "print (Data)"
   ]
  },
  {
   "cell_type": "markdown",
   "id": "cb3a3051-63ad-4f03-83f0-c1ff35599091",
   "metadata": {},
   "source": [
    "### 4. Creating a flag column"
   ]
  },
  {
   "cell_type": "code",
   "execution_count": 10,
   "id": "c5990a3c-4d55-4425-bb4e-3d779e3b457f",
   "metadata": {},
   "outputs": [],
   "source": [
    "## I want to create price range label column "
   ]
  },
  {
   "cell_type": "code",
   "execution_count": 12,
   "id": "0de3fd4a-6d4e-4b17-8819-f59ec74a46e7",
   "metadata": {},
   "outputs": [],
   "source": [
    "Data['price_range_label']=Data['Price'].apply(\n",
    "    lambda x: 'High_end_product' if x>100 else ('Mid_range_product' if x>=50 else 'Low_range_product'))"
   ]
  },
  {
   "cell_type": "code",
   "execution_count": 13,
   "id": "0e8b80c4-7b44-4f13-9bb0-e9892f45b870",
   "metadata": {},
   "outputs": [
    {
     "name": "stdout",
     "output_type": "stream",
     "text": [
      "      Product  Price     Category  price_with_tax  price_range_label\n",
      "0          TV    250  Electronics           275.0   High_end_product\n",
      "1  Sweatshirt     50     Clothing            55.0  Mid_range_product\n",
      "2      Cereal      7      Grocery             7.7  Low_range_product\n",
      "3        Milk      5      Grocery             5.5  Low_range_product\n"
     ]
    }
   ],
   "source": [
    "print(Data)"
   ]
  },
  {
   "cell_type": "code",
   "execution_count": null,
   "id": "b49116ab-e8cd-44ea-bea9-cec6df94620e",
   "metadata": {},
   "outputs": [],
   "source": []
  }
 ],
 "metadata": {
  "kernelspec": {
   "display_name": "Python [conda env:20th_century] *",
   "language": "python",
   "name": "conda-env-20th_century-py"
  },
  "language_info": {
   "codemirror_mode": {
    "name": "ipython",
    "version": 3
   },
   "file_extension": ".py",
   "mimetype": "text/x-python",
   "name": "python",
   "nbconvert_exporter": "python",
   "pygments_lexer": "ipython3",
   "version": "3.13.5"
  }
 },
 "nbformat": 4,
 "nbformat_minor": 5
}
