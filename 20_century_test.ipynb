{
 "cells": [
  {
   "cell_type": "markdown",
   "id": "b2905dc4-80ae-4dde-935f-f5113c7d70fa",
   "metadata": {},
   "source": [
    "# Test notebook"
   ]
  },
  {
   "cell_type": "code",
   "execution_count": null,
   "id": "82068a8e-4c17-43de-a89a-fed31ca1f93c",
   "metadata": {},
   "outputs": [],
   "source": [
    "## this notebook will commit changes to online repo."
   ]
  }
 ],
 "metadata": {
  "kernelspec": {
   "display_name": "Python (quandl_env)",
   "language": "python",
   "name": "quandl_env"
  },
  "language_info": {
   "codemirror_mode": {
    "name": "ipython",
    "version": 3
   },
   "file_extension": ".py",
   "mimetype": "text/x-python",
   "name": "python",
   "nbconvert_exporter": "python",
   "pygments_lexer": "ipython3",
   "version": "3.12.7"
  }
 },
 "nbformat": 4,
 "nbformat_minor": 5
}
